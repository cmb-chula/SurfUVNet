{
  "nbformat": 4,
  "nbformat_minor": 0,
  "metadata": {
    "colab": {
      "name": "Prediction_example.ipynb",
      "provenance": [],
      "collapsed_sections": []
    },
    "kernelspec": {
      "name": "python3",
      "display_name": "Python 3"
    }
  },
  "cells": [
    {
      "cell_type": "code",
      "metadata": {
        "id": "3OUDpsdCue3M",
        "colab_type": "code",
        "colab": {}
      },
      "source": [
        "from model import create_model\n",
        "from preprocess_input import smooth, buildData, denormalized\n",
        "import pandas as pd"
      ],
      "execution_count": 0,
      "outputs": []
    },
    {
      "cell_type": "markdown",
      "metadata": {
        "id": "6yuDIfvux-qT",
        "colab_type": "text"
      },
      "source": [
        "## Create model"
      ]
    },
    {
      "cell_type": "code",
      "metadata": {
        "id": "srmAE9NOuvBp",
        "colab_type": "code",
        "outputId": "57ee575c-d0bf-48fe-e33b-747a1c8e193a",
        "colab": {
          "base_uri": "https://localhost:8080/",
          "height": 238
        }
      },
      "source": [
        "encoder_input_length =  14*85 #day*timestep\n",
        "decoder_input_length = 85 #timestep, output length will be the same as decoder input length\n",
        "\n",
        "model = create_model(encoder_input_length,decoder_input_length)"
      ],
      "execution_count": 7,
      "outputs": [
        {
          "output_type": "stream",
          "text": [
            "WARNING:tensorflow:From /usr/local/lib/python3.6/dist-packages/keras/backend/tensorflow_backend.py:66: The name tf.get_default_graph is deprecated. Please use tf.compat.v1.get_default_graph instead.\n",
            "\n",
            "WARNING:tensorflow:From /usr/local/lib/python3.6/dist-packages/keras/backend/tensorflow_backend.py:541: The name tf.placeholder is deprecated. Please use tf.compat.v1.placeholder instead.\n",
            "\n",
            "WARNING:tensorflow:From /usr/local/lib/python3.6/dist-packages/keras/backend/tensorflow_backend.py:4432: The name tf.random_uniform is deprecated. Please use tf.random.uniform instead.\n",
            "\n",
            "WARNING:tensorflow:From /usr/local/lib/python3.6/dist-packages/keras/backend/tensorflow_backend.py:148: The name tf.placeholder_with_default is deprecated. Please use tf.compat.v1.placeholder_with_default instead.\n",
            "\n",
            "WARNING:tensorflow:From /usr/local/lib/python3.6/dist-packages/keras/backend/tensorflow_backend.py:3733: calling dropout (from tensorflow.python.ops.nn_ops) with keep_prob is deprecated and will be removed in a future version.\n",
            "Instructions for updating:\n",
            "Please use `rate` instead of `keep_prob`. Rate should be set to `rate = 1 - keep_prob`.\n",
            "WARNING:tensorflow:From /usr/local/lib/python3.6/dist-packages/keras/optimizers.py:793: The name tf.train.Optimizer is deprecated. Please use tf.compat.v1.train.Optimizer instead.\n",
            "\n"
          ],
          "name": "stdout"
        }
      ]
    },
    {
      "cell_type": "code",
      "metadata": {
        "id": "PSvPIceXwGPd",
        "colab_type": "code",
        "outputId": "bddfac6b-4d91-479c-d1c1-9f4c6b41f0e9",
        "colab": {
          "base_uri": "https://localhost:8080/",
          "height": 527
        }
      },
      "source": [
        "model.summary()"
      ],
      "execution_count": 8,
      "outputs": [
        {
          "output_type": "stream",
          "text": [
            "Model: \"model_1\"\n",
            "__________________________________________________________________________________________________\n",
            "Layer (type)                    Output Shape         Param #     Connected to                     \n",
            "==================================================================================================\n",
            "input_1 (InputLayer)            (None, 1190, 3)      0                                            \n",
            "__________________________________________________________________________________________________\n",
            "bidirectional_1 (Bidirectional) (None, 1190, 512)    532480      input_1[0][0]                    \n",
            "__________________________________________________________________________________________________\n",
            "input_2 (InputLayer)            (None, 85, 3)        0                                            \n",
            "__________________________________________________________________________________________________\n",
            "lstm_2 (LSTM)                   [(None, 256), (None, 787456      bidirectional_1[0][0]            \n",
            "__________________________________________________________________________________________________\n",
            "lstm_3 (LSTM)                   [(None, 85, 256), (N 266240      input_2[0][0]                    \n",
            "                                                                 lstm_2[0][1]                     \n",
            "                                                                 lstm_2[0][2]                     \n",
            "__________________________________________________________________________________________________\n",
            "dense_1 (Dense)                 (None, 85, 128)      32896       lstm_3[0][0]                     \n",
            "__________________________________________________________________________________________________\n",
            "dropout_1 (Dropout)             (None, 85, 128)      0           dense_1[0][0]                    \n",
            "__________________________________________________________________________________________________\n",
            "dense_2 (Dense)                 (None, 85, 64)       8256        dropout_1[0][0]                  \n",
            "__________________________________________________________________________________________________\n",
            "dropout_2 (Dropout)             (None, 85, 64)       0           dense_2[0][0]                    \n",
            "__________________________________________________________________________________________________\n",
            "dense_3 (Dense)                 (None, 85, 1)        65          dropout_2[0][0]                  \n",
            "==================================================================================================\n",
            "Total params: 1,627,393\n",
            "Trainable params: 1,627,393\n",
            "Non-trainable params: 0\n",
            "__________________________________________________________________________________________________\n"
          ],
          "name": "stdout"
        }
      ]
    },
    {
      "cell_type": "code",
      "metadata": {
        "id": "lngD321FwJdw",
        "colab_type": "code",
        "outputId": "d3879c97-ade5-45bd-aadd-3379dfe7f04e",
        "colab": {
          "base_uri": "https://localhost:8080/",
          "height": 221
        }
      },
      "source": [
        "file_path = './weights/seq2seq_14.h5'\n",
        "\n",
        "model.load_weights(file_path)"
      ],
      "execution_count": 12,
      "outputs": [
        {
          "output_type": "stream",
          "text": [
            "WARNING:tensorflow:From /usr/local/lib/python3.6/dist-packages/keras/backend/tensorflow_backend.py:190: The name tf.get_default_session is deprecated. Please use tf.compat.v1.get_default_session instead.\n",
            "\n",
            "WARNING:tensorflow:From /usr/local/lib/python3.6/dist-packages/keras/backend/tensorflow_backend.py:197: The name tf.ConfigProto is deprecated. Please use tf.compat.v1.ConfigProto instead.\n",
            "\n",
            "WARNING:tensorflow:From /usr/local/lib/python3.6/dist-packages/keras/backend/tensorflow_backend.py:203: The name tf.Session is deprecated. Please use tf.compat.v1.Session instead.\n",
            "\n",
            "WARNING:tensorflow:From /usr/local/lib/python3.6/dist-packages/keras/backend/tensorflow_backend.py:207: The name tf.global_variables is deprecated. Please use tf.compat.v1.global_variables instead.\n",
            "\n",
            "WARNING:tensorflow:From /usr/local/lib/python3.6/dist-packages/keras/backend/tensorflow_backend.py:216: The name tf.is_variable_initialized is deprecated. Please use tf.compat.v1.is_variable_initialized instead.\n",
            "\n",
            "WARNING:tensorflow:From /usr/local/lib/python3.6/dist-packages/keras/backend/tensorflow_backend.py:223: The name tf.variables_initializer is deprecated. Please use tf.compat.v1.variables_initializer instead.\n",
            "\n"
          ],
          "name": "stdout"
        }
      ]
    },
    {
      "cell_type": "markdown",
      "metadata": {
        "id": "jdQ5zVWuyEOT",
        "colab_type": "text"
      },
      "source": [
        "## Data preprocess"
      ]
    },
    {
      "cell_type": "code",
      "metadata": {
        "id": "ADqfYAh9gAAX",
        "colab_type": "code",
        "colab": {}
      },
      "source": [
        "data_2018 = pd.read_csv('./example/example_2018.csv',header=None).values\n",
        "data_2019 = pd.read_csv('./example/example_2019.csv',header=None).values"
      ],
      "execution_count": 0,
      "outputs": []
    },
    {
      "cell_type": "code",
      "metadata": {
        "id": "O6gpPOvagj8I",
        "colab_type": "code",
        "colab": {}
      },
      "source": [
        "data_2018 = data_2018.reshape(-1,85,1)\n",
        "data_2019 = data_2019.reshape(-1,85,1)"
      ],
      "execution_count": 0,
      "outputs": []
    },
    {
      "cell_type": "code",
      "metadata": {
        "id": "Z3-Bgn9zqNQV",
        "colab_type": "code",
        "colab": {}
      },
      "source": [
        "X, X2, y = buildData(data_2019,data_2018)"
      ],
      "execution_count": 0,
      "outputs": []
    },
    {
      "cell_type": "code",
      "metadata": {
        "id": "9NDphCbtj03i",
        "colab_type": "code",
        "colab": {}
      },
      "source": [
        "X = smooth(X)\n",
        "X2 = smooth(X2)"
      ],
      "execution_count": 0,
      "outputs": []
    },
    {
      "cell_type": "code",
      "metadata": {
        "id": "J3T8RQD8oO41",
        "colab_type": "code",
        "outputId": "4aca12d1-a537-49df-f455-2b3e41b0f287",
        "colab": {
          "base_uri": "https://localhost:8080/",
          "height": 34
        }
      },
      "source": [
        "X.shape, X2.shape, y.shape"
      ],
      "execution_count": 17,
      "outputs": [
        {
          "output_type": "execute_result",
          "data": {
            "text/plain": [
              "((76, 1190, 3), (76, 85, 3), (76, 85, 1))"
            ]
          },
          "metadata": {
            "tags": []
          },
          "execution_count": 17
        }
      ]
    },
    {
      "cell_type": "markdown",
      "metadata": {
        "id": "2Qtns5HpyMq3",
        "colab_type": "text"
      },
      "source": [
        "## Forecasting"
      ]
    },
    {
      "cell_type": "code",
      "metadata": {
        "id": "gYE39YpXltKN",
        "colab_type": "code",
        "colab": {}
      },
      "source": [
        "predict_result = model.predict([X, X2])"
      ],
      "execution_count": 0,
      "outputs": []
    },
    {
      "cell_type": "code",
      "metadata": {
        "id": "bcGrYhnikpoA",
        "colab_type": "code",
        "colab": {}
      },
      "source": [
        "import datetime\n",
        "import matplotlib.pyplot as plt\n",
        "import matplotlib.dates as mdates\n",
        "\n",
        "start_time = '05:00:00'\n",
        "date_list= []\n",
        "for i in range(85):\n",
        "    date_list.append(datetime.datetime.strptime(start_time,'%H:%M:%S')\n",
        "                     +datetime.timedelta(minutes=10*i))"
      ],
      "execution_count": 0,
      "outputs": []
    },
    {
      "cell_type": "code",
      "metadata": {
        "id": "Z1i2AWgAzhzv",
        "colab_type": "code",
        "colab": {}
      },
      "source": [
        "predict_result = denormalized(predict_result)\n",
        "y = denormalized(y)"
      ],
      "execution_count": 0,
      "outputs": []
    },
    {
      "cell_type": "code",
      "metadata": {
        "id": "OKZN_oNOjT-X",
        "colab_type": "code",
        "outputId": "64275a4c-48fb-4fbb-8f91-823fbee1daef",
        "colab": {
          "base_uri": "https://localhost:8080/",
          "height": 320
        }
      },
      "source": [
        "lines = []\n",
        "day = 0\n",
        "fig, ax = plt.subplots(figsize=(10,5))\n",
        "ax.plot(date_list[13:79],predict_result[day,13:79,:], alpha=0.7,linestyle='-', color='black',label=\"pred\")\n",
        "ax.plot(date_list[13:79],y[day].ravel()[13:79],linestyle='-.', alpha=0.7, color='#4d4d4d',label=\"real\")\n",
        "ax.set_ylabel('Antipsoriasis (mW/$m^{2}$)')\n",
        "ax.xaxis.set_major_formatter(mdates.DateFormatter('%H:%M'))\n",
        "ax.xaxis.set_major_locator(mdates.HourLocator(interval=1))\n",
        "# ax2.set_ylabel('Error (%)')\n",
        "ax.legend(lines, ['pred', 'real', 'error'],\n",
        "      loc='upper right', frameon=False)\n",
        "plt.show()"
      ],
      "execution_count": 23,
      "outputs": [
        {
          "output_type": "display_data",
          "data": {
            "image/png": "[encoded data removed]",
            "text/plain": [
              "<Figure size 720x360 with 1 Axes>"
            ]
          },
          "metadata": {
            "tags": [],
            "needs_background": "light"
          }
        }
      ]
    }
  ]
}