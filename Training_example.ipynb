{
  "nbformat": 4,
  "nbformat_minor": 0,
  "metadata": {
    "colab": {
      "name": "Training_example.ipynb",
      "provenance": [],
      "collapsed_sections": [],
      "toc_visible": true
    },
    "kernelspec": {
      "name": "python3",
      "display_name": "Python 3"
    }
  },
  "cells": [
    {
      "cell_type": "markdown",
      "metadata": {
        "id": "cVWE8mIhPCUd",
        "colab_type": "text"
      },
      "source": [
        "**Note: This is an example for how to train the model. Model performance and some setting are not same as we train our model. We recommend you to read our paper  and change parameter setting to be the same.**"
      ]
    },
    {
      "cell_type": "code",
      "metadata": {
        "id": "3OUDpsdCue3M",
        "colab_type": "code",
        "outputId": "e8199360-f5e2-47fd-c4ad-683b7537796b",
        "colab": {
          "base_uri": "https://localhost:8080/",
          "height": 34
        }
      },
      "source": [
        "from model import create_model, tilted_loss\n",
        "from preprocess_input import smooth, buildData\n",
        "import pandas as pd\n",
        "from keras import optimizers, callbacks"
      ],
      "execution_count": 1,
      "outputs": [
        {
          "output_type": "stream",
          "text": [
            "Using TensorFlow backend.\n"
          ],
          "name": "stderr"
        }
      ]
    },
    {
      "cell_type": "markdown",
      "metadata": {
        "id": "jdQ5zVWuyEOT",
        "colab_type": "text"
      },
      "source": [
        "## Data preprocess"
      ]
    },
    {
      "cell_type": "code",
      "metadata": {
        "id": "ADqfYAh9gAAX",
        "colab_type": "code",
        "colab": {}
      },
      "source": [
        "data_2018 = pd.read_csv('./example/example_2018.csv',header=None).values\n",
        "data_2019 = pd.read_csv('./example/example_2019.csv',header=None).values"
      ],
      "execution_count": 0,
      "outputs": []
    },
    {
      "cell_type": "code",
      "metadata": {
        "id": "O6gpPOvagj8I",
        "colab_type": "code",
        "colab": {}
      },
      "source": [
        "data_2018 = data_2018.reshape(-1,85,1)\n",
        "data_2019 = data_2019.reshape(-1,85,1)"
      ],
      "execution_count": 0,
      "outputs": []
    },
    {
      "cell_type": "code",
      "metadata": {
        "id": "Z3-Bgn9zqNQV",
        "colab_type": "code",
        "colab": {}
      },
      "source": [
        "X, X2, y = buildData(data_2019,data_2018)"
      ],
      "execution_count": 0,
      "outputs": []
    },
    {
      "cell_type": "code",
      "metadata": {
        "id": "9NDphCbtj03i",
        "colab_type": "code",
        "colab": {}
      },
      "source": [
        "X = smooth(X)\n",
        "X2 = smooth(X2)"
      ],
      "execution_count": 0,
      "outputs": []
    },
    {
      "cell_type": "code",
      "metadata": {
        "id": "J3T8RQD8oO41",
        "colab_type": "code",
        "outputId": "58d61e38-1ef2-49d2-e35d-8f5c2ac6b0c7",
        "colab": {
          "base_uri": "https://localhost:8080/",
          "height": 34
        }
      },
      "source": [
        "X.shape, X2.shape, y.shape"
      ],
      "execution_count": 6,
      "outputs": [
        {
          "output_type": "execute_result",
          "data": {
            "text/plain": [
              "((76, 1190, 3), (76, 85, 3), (76, 85, 1))"
            ]
          },
          "metadata": {
            "tags": []
          },
          "execution_count": 6
        }
      ]
    },
    {
      "cell_type": "code",
      "metadata": {
        "id": "nLT8ZmngMMiY",
        "colab_type": "code",
        "colab": {}
      },
      "source": [
        "split_ratio = 0.7\n",
        "length = X.shape[0]\n",
        "split = int(split_ratio*length)\n",
        "\n",
        "X_train = X[:split]\n",
        "X_train2 = X2[:split]\n",
        "y_train = y[:split]\n",
        "\n",
        "X_eval = X[split:]\n",
        "X_eval2 = X2[split:]\n",
        "y_eval = y[split:]"
      ],
      "execution_count": 0,
      "outputs": []
    },
    {
      "cell_type": "markdown",
      "metadata": {
        "id": "6yuDIfvux-qT",
        "colab_type": "text"
      },
      "source": [
        "## Create model"
      ]
    },
    {
      "cell_type": "code",
      "metadata": {
        "id": "srmAE9NOuvBp",
        "colab_type": "code",
        "colab": {}
      },
      "source": [
        "encoder_input_length =  14*85 #day*timestep\n",
        "decoder_input_length = 85 #timestep, output length will be the same as decoder input length\n",
        "quantile = 0.33\n",
        "\n",
        "model = create_model(encoder_input_length,decoder_input_length)\n",
        "model.compile(optimizer=optimizers.adam(lr=0.00005, decay=0.000001), loss=lambda y,y_pred: tilted_loss(quantile,y,y_pred))"
      ],
      "execution_count": 0,
      "outputs": []
    },
    {
      "cell_type": "code",
      "metadata": {
        "id": "PSvPIceXwGPd",
        "colab_type": "code",
        "outputId": "897fa1d2-13bf-4fcf-bbf4-4989a103bbaf",
        "colab": {
          "base_uri": "https://localhost:8080/",
          "height": 527
        }
      },
      "source": [
        "model.summary()"
      ],
      "execution_count": 9,
      "outputs": [
        {
          "output_type": "stream",
          "text": [
            "Model: \"model_1\"\n",
            "__________________________________________________________________________________________________\n",
            "Layer (type)                    Output Shape         Param #     Connected to                     \n",
            "==================================================================================================\n",
            "input_1 (InputLayer)            (None, 1190, 3)      0                                            \n",
            "__________________________________________________________________________________________________\n",
            "bidirectional_1 (Bidirectional) (None, 1190, 512)    532480      input_1[0][0]                    \n",
            "__________________________________________________________________________________________________\n",
            "input_2 (InputLayer)            (None, 85, 3)        0                                            \n",
            "__________________________________________________________________________________________________\n",
            "lstm_2 (LSTM)                   [(None, 256), (None, 787456      bidirectional_1[0][0]            \n",
            "__________________________________________________________________________________________________\n",
            "lstm_3 (LSTM)                   [(None, 85, 256), (N 266240      input_2[0][0]                    \n",
            "                                                                 lstm_2[0][1]                     \n",
            "                                                                 lstm_2[0][2]                     \n",
            "__________________________________________________________________________________________________\n",
            "dense_1 (Dense)                 (None, 85, 128)      32896       lstm_3[0][0]                     \n",
            "__________________________________________________________________________________________________\n",
            "dropout_1 (Dropout)             (None, 85, 128)      0           dense_1[0][0]                    \n",
            "__________________________________________________________________________________________________\n",
            "dense_2 (Dense)                 (None, 85, 64)       8256        dropout_1[0][0]                  \n",
            "__________________________________________________________________________________________________\n",
            "dropout_2 (Dropout)             (None, 85, 64)       0           dense_2[0][0]                    \n",
            "__________________________________________________________________________________________________\n",
            "dense_3 (Dense)                 (None, 85, 1)        65          dropout_2[0][0]                  \n",
            "==================================================================================================\n",
            "Total params: 1,627,393\n",
            "Trainable params: 1,627,393\n",
            "Non-trainable params: 0\n",
            "__________________________________________________________________________________________________\n"
          ],
          "name": "stdout"
        }
      ]
    },
    {
      "cell_type": "code",
      "metadata": {
        "id": "lngD321FwJdw",
        "colab_type": "code",
        "colab": {}
      },
      "source": [
        "file_path = './weights/seq2seq_14.h5'\n",
        "\n",
        "sb = callbacks.ModelCheckpoint(file_path, save_best_only=True, verbose=1, monitor=\"val_loss\", mode=\"min\")"
      ],
      "execution_count": 0,
      "outputs": []
    },
    {
      "cell_type": "code",
      "metadata": {
        "id": "5SsMN_4gyD3L",
        "colab_type": "code",
        "colab": {
          "base_uri": "https://localhost:8080/",
          "height": 1000
        },
        "outputId": "731c0f47-c88a-4119-8e38-40f547ff8cf0"
      },
      "source": [
        "history = model.fit([X_train,X_train2], y_train, epochs=20, batch_size=128, verbose=1, \n",
        "          validation_data=([X_eval,X_eval2],y_eval),callbacks=[sb])"
      ],
      "execution_count": 12,
      "outputs": [
        {
          "output_type": "stream",
          "text": [
            "Train on 53 samples, validate on 23 samples\n",
            "Epoch 1/20\n",
            "53/53 [==============================] - 24s 459ms/step - loss: 0.0968 - val_loss: 0.0922\n",
            "\n",
            "Epoch 00001: val_loss improved from inf to 0.09216, saving model to ./weights/seq2seq_14.h5\n",
            "Epoch 2/20\n",
            "53/53 [==============================] - 27s 506ms/step - loss: 0.0965 - val_loss: 0.0916\n",
            "\n",
            "Epoch 00002: val_loss improved from 0.09216 to 0.09155, saving model to ./weights/seq2seq_14.h5\n",
            "Epoch 3/20\n",
            "53/53 [==============================] - 22s 411ms/step - loss: 0.0960 - val_loss: 0.0909\n",
            "\n",
            "Epoch 00003: val_loss improved from 0.09155 to 0.09091, saving model to ./weights/seq2seq_14.h5\n",
            "Epoch 4/20\n",
            "53/53 [==============================] - 22s 410ms/step - loss: 0.0955 - val_loss: 0.0903\n",
            "\n",
            "Epoch 00004: val_loss improved from 0.09091 to 0.09025, saving model to ./weights/seq2seq_14.h5\n",
            "Epoch 5/20\n",
            "53/53 [==============================] - 22s 412ms/step - loss: 0.0936 - val_loss: 0.0896\n",
            "\n",
            "Epoch 00005: val_loss improved from 0.09025 to 0.08958, saving model to ./weights/seq2seq_14.h5\n",
            "Epoch 6/20\n",
            "53/53 [==============================] - 22s 407ms/step - loss: 0.0944 - val_loss: 0.0889\n",
            "\n",
            "Epoch 00006: val_loss improved from 0.08958 to 0.08890, saving model to ./weights/seq2seq_14.h5\n",
            "Epoch 7/20\n",
            "53/53 [==============================] - 22s 411ms/step - loss: 0.0934 - val_loss: 0.0882\n",
            "\n",
            "Epoch 00007: val_loss improved from 0.08890 to 0.08822, saving model to ./weights/seq2seq_14.h5\n",
            "Epoch 8/20\n",
            "53/53 [==============================] - 22s 410ms/step - loss: 0.0918 - val_loss: 0.0875\n",
            "\n",
            "Epoch 00008: val_loss improved from 0.08822 to 0.08754, saving model to ./weights/seq2seq_14.h5\n",
            "Epoch 9/20\n",
            "53/53 [==============================] - 22s 407ms/step - loss: 0.0923 - val_loss: 0.0869\n",
            "\n",
            "Epoch 00009: val_loss improved from 0.08754 to 0.08685, saving model to ./weights/seq2seq_14.h5\n",
            "Epoch 10/20\n",
            "53/53 [==============================] - 22s 409ms/step - loss: 0.0909 - val_loss: 0.0862\n",
            "\n",
            "Epoch 00010: val_loss improved from 0.08685 to 0.08616, saving model to ./weights/seq2seq_14.h5\n",
            "Epoch 11/20\n",
            "53/53 [==============================] - 22s 406ms/step - loss: 0.0902 - val_loss: 0.0855\n",
            "\n",
            "Epoch 00011: val_loss improved from 0.08616 to 0.08548, saving model to ./weights/seq2seq_14.h5\n",
            "Epoch 12/20\n",
            "53/53 [==============================] - 22s 408ms/step - loss: 0.0899 - val_loss: 0.0848\n",
            "\n",
            "Epoch 00012: val_loss improved from 0.08548 to 0.08479, saving model to ./weights/seq2seq_14.h5\n",
            "Epoch 13/20\n",
            "53/53 [==============================] - 22s 408ms/step - loss: 0.0891 - val_loss: 0.0841\n",
            "\n",
            "Epoch 00013: val_loss improved from 0.08479 to 0.08411, saving model to ./weights/seq2seq_14.h5\n",
            "Epoch 14/20\n",
            "53/53 [==============================] - 22s 406ms/step - loss: 0.0889 - val_loss: 0.0834\n",
            "\n",
            "Epoch 00014: val_loss improved from 0.08411 to 0.08343, saving model to ./weights/seq2seq_14.h5\n",
            "Epoch 15/20\n",
            "53/53 [==============================] - 21s 403ms/step - loss: 0.0873 - val_loss: 0.0827\n",
            "\n",
            "Epoch 00015: val_loss improved from 0.08343 to 0.08275, saving model to ./weights/seq2seq_14.h5\n",
            "Epoch 16/20\n",
            "53/53 [==============================] - 22s 406ms/step - loss: 0.0870 - val_loss: 0.0821\n",
            "\n",
            "Epoch 00016: val_loss improved from 0.08275 to 0.08207, saving model to ./weights/seq2seq_14.h5\n",
            "Epoch 17/20\n",
            "53/53 [==============================] - 21s 404ms/step - loss: 0.0861 - val_loss: 0.0814\n",
            "\n",
            "Epoch 00017: val_loss improved from 0.08207 to 0.08139, saving model to ./weights/seq2seq_14.h5\n",
            "Epoch 18/20\n",
            "53/53 [==============================] - 21s 404ms/step - loss: 0.0850 - val_loss: 0.0807\n",
            "\n",
            "Epoch 00018: val_loss improved from 0.08139 to 0.08071, saving model to ./weights/seq2seq_14.h5\n",
            "Epoch 19/20\n",
            "53/53 [==============================] - 21s 404ms/step - loss: 0.0848 - val_loss: 0.0800\n",
            "\n",
            "Epoch 00019: val_loss improved from 0.08071 to 0.08003, saving model to ./weights/seq2seq_14.h5\n",
            "Epoch 20/20\n",
            "53/53 [==============================] - 21s 404ms/step - loss: 0.0840 - val_loss: 0.0794\n",
            "\n",
            "Epoch 00020: val_loss improved from 0.08003 to 0.07936, saving model to ./weights/seq2seq_14.h5\n"
          ],
          "name": "stdout"
        }
      ]
    }
  ]
}